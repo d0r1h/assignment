{
  "nbformat": 4,
  "nbformat_minor": 0,
  "metadata": {
    "colab": {
      "name": "solution.ipynb",
      "provenance": [],
      "collapsed_sections": []
    },
    "kernelspec": {
      "name": "python3",
      "display_name": "Python 3"
    },
    "language_info": {
      "name": "python"
    }
  },
  "cells": [
    {
      "cell_type": "code",
      "source": [
        "import json\n",
        "import matplotlib.pyplot as plt\n",
        "import seaborn as sns\n",
        "import numpy as np\n",
        "import pandas as pd\n",
        "\n",
        "sns.set_theme()"
      ],
      "metadata": {
        "id": "hC4OdozyWHyR"
      },
      "execution_count": null,
      "outputs": []
    },
    {
      "cell_type": "code",
      "source": [
        "!unzip '/content/drive/MyDrive/Be Zen/test.zip'"
      ],
      "metadata": {
        "id": "2TSlztLMWHvo",
        "colab": {
          "base_uri": "https://localhost:8080/"
        },
        "outputId": "74cf22e4-f82e-47de-9445-c54eb2268cc2"
      },
      "execution_count": null,
      "outputs": [
        {
          "output_type": "stream",
          "name": "stdout",
          "text": [
            "Archive:  /content/drive/MyDrive/Be Zen/test.zip\n",
            "   creating: test/\n",
            "  inflating: test/2022_02_08-02_30_31_AM.csv  \n"
          ]
        }
      ]
    },
    {
      "cell_type": "code",
      "source": [
        "data = pd.read_csv(\"/content/test/2022_02_08-02_30_31_AM.csv\", nrows=5)"
      ],
      "metadata": {
        "id": "yxuXFX_O7HTO"
      },
      "execution_count": null,
      "outputs": []
    },
    {
      "cell_type": "code",
      "source": [
        "data.dtypes"
      ],
      "metadata": {
        "colab": {
          "base_uri": "https://localhost:8080/"
        },
        "id": "K4BZ2N24DqDY",
        "outputId": "e69b816f-301c-4632-8af2-271aaf73e38f"
      },
      "execution_count": null,
      "outputs": [
        {
          "output_type": "execute_result",
          "data": {
            "text/plain": [
              "uuid                 object\n",
              "price_string         object\n",
              "price_string_unf    float64\n",
              "product_type         object\n",
              "level_1              object\n",
              "category             object\n",
              "dtype: object"
            ]
          },
          "metadata": {},
          "execution_count": 6
        }
      ]
    },
    {
      "cell_type": "code",
      "source": [
        "dtypes = dict(zip(data.columns.values, ['object', 'object', 'object', 'object', 'object', 'object']))"
      ],
      "metadata": {
        "id": "yfLku31b7ToI"
      },
      "execution_count": null,
      "outputs": []
    },
    {
      "cell_type": "code",
      "source": [
        "json.dumps(dtypes)"
      ],
      "metadata": {
        "colab": {
          "base_uri": "https://localhost:8080/",
          "height": 35
        },
        "id": "E9MfrxkC6fBO",
        "outputId": "d082867c-c609-4468-821a-3c058f86f9e5"
      },
      "execution_count": null,
      "outputs": [
        {
          "output_type": "execute_result",
          "data": {
            "text/plain": [
              "'{\"uuid\": \"object\", \"price_string\": \"object\", \"price_string_unf\": \"object\", \"product_type\": \"object\", \"level_1\": \"object\", \"category\": \"object\"}'"
            ],
            "application/vnd.google.colaboratory.intrinsic+json": {
              "type": "string"
            }
          },
          "metadata": {},
          "execution_count": 8
        }
      ]
    },
    {
      "cell_type": "code",
      "source": [
        "del data"
      ],
      "metadata": {
        "id": "emZI9-Q37YGt"
      },
      "execution_count": null,
      "outputs": []
    },
    {
      "cell_type": "code",
      "source": [
        "data = pd.read_csv(\"/content/test/2022_02_08-02_30_31_AM.csv\", dtype=dtypes)"
      ],
      "metadata": {
        "id": "xKjorMS-5ovw"
      },
      "execution_count": null,
      "outputs": []
    },
    {
      "cell_type": "code",
      "source": [
        "data.info()"
      ],
      "metadata": {
        "id": "vWIivN7R7n8Q",
        "colab": {
          "base_uri": "https://localhost:8080/"
        },
        "outputId": "86f4ebed-ec95-46e4-8137-0ca603b6cce4"
      },
      "execution_count": null,
      "outputs": [
        {
          "output_type": "stream",
          "name": "stdout",
          "text": [
            "<class 'pandas.core.frame.DataFrame'>\n",
            "RangeIndex: 13730000 entries, 0 to 13729999\n",
            "Data columns (total 6 columns):\n",
            " #   Column            Dtype \n",
            "---  ------            ----- \n",
            " 0   uuid              object\n",
            " 1   price_string      object\n",
            " 2   price_string_unf  object\n",
            " 3   product_type      object\n",
            " 4   level_1           object\n",
            " 5   category          object\n",
            "dtypes: object(6)\n",
            "memory usage: 628.5+ MB\n"
          ]
        }
      ]
    },
    {
      "cell_type": "markdown",
      "source": [
        "`Despite being the size of 1.3 GB, it is taking only 620+ MB memory, this way we can save ram and make the data loading process faster.`"
      ],
      "metadata": {
        "id": "uVMBhjrZENoZ"
      }
    },
    {
      "cell_type": "markdown",
      "source": [
        "## **EDA**"
      ],
      "metadata": {
        "id": "JnVYoEQsEmhD"
      }
    },
    {
      "cell_type": "code",
      "source": [
        "data.shape"
      ],
      "metadata": {
        "colab": {
          "base_uri": "https://localhost:8080/"
        },
        "id": "Wr5wfn_f5ot-",
        "outputId": "4517d72c-d20d-4779-bf22-d9c634112a76"
      },
      "execution_count": null,
      "outputs": [
        {
          "output_type": "execute_result",
          "data": {
            "text/plain": [
              "(13730000, 6)"
            ]
          },
          "metadata": {},
          "execution_count": 12
        }
      ]
    },
    {
      "cell_type": "code",
      "source": [
        "data.sample(5, random_state=2)"
      ],
      "metadata": {
        "colab": {
          "base_uri": "https://localhost:8080/",
          "height": 250
        },
        "id": "55n6WMIJErUL",
        "outputId": "03969f79-b3b5-4a18-9a2e-0ac9a06aa2ae"
      },
      "execution_count": null,
      "outputs": [
        {
          "output_type": "execute_result",
          "data": {
            "text/plain": [
              "                                         uuid price_string price_string_unf  \\\n",
              "8249893  e6d3d9a3-e8ae-4921-9c10-72ad96a967dc          NaN              NaN   \n",
              "722950   34777e55-adce-4de9-a212-cf902eec400b         $129              NaN   \n",
              "4611064  a4b61da4-a72b-418e-a20a-a330a2b451cb          NaN              NaN   \n",
              "9021071  169a4873-42f2-42a0-b72b-4b14325c945d        $0.00              NaN   \n",
              "3300207  cd25aa8e-35db-475a-b5ef-16f34e7fe92e          NaN              NaN   \n",
              "\n",
              "                product_type               level_1  \\\n",
              "8249893  V29tZW5zIFRzaGlydHM       R3JhcGhpYyB0ZWU   \n",
              "722950           QmFja3BhY2s           QmFja3BhY2s   \n",
              "4611064   d29tZW5zIFdhbGxldA    d29tZW5zIFdhbGxldA   \n",
              "9021071   Q2hlZWsgbWFrZSB1cA  UGlnbWVudGVkIEJsdXNo   \n",
              "3300207     RG9nIHRveXMgcGV0           RG9nIHRveXM   \n",
              "\n",
              "                                 category  \n",
              "8249893  Q2xvdGhpbmcgYW5kIEFjY2Vzc29yaWVz  \n",
              "722950   Q2xvdGhpbmcgYW5kIEFjY2Vzc29yaWVz  \n",
              "4611064  Q2xvdGhpbmcgYW5kIEFjY2Vzc29yaWVz  \n",
              "9021071  YmVhdXR5IGFuZCBwZXJzb25hbCBjYXJl  \n",
              "3300207                  cGV0IHN1cHBsaWVz  "
            ],
            "text/html": [
              "\n",
              "  <div id=\"df-e13fcec4-e417-47b2-993d-538a9d365cbf\">\n",
              "    <div class=\"colab-df-container\">\n",
              "      <div>\n",
              "<style scoped>\n",
              "    .dataframe tbody tr th:only-of-type {\n",
              "        vertical-align: middle;\n",
              "    }\n",
              "\n",
              "    .dataframe tbody tr th {\n",
              "        vertical-align: top;\n",
              "    }\n",
              "\n",
              "    .dataframe thead th {\n",
              "        text-align: right;\n",
              "    }\n",
              "</style>\n",
              "<table border=\"1\" class=\"dataframe\">\n",
              "  <thead>\n",
              "    <tr style=\"text-align: right;\">\n",
              "      <th></th>\n",
              "      <th>uuid</th>\n",
              "      <th>price_string</th>\n",
              "      <th>price_string_unf</th>\n",
              "      <th>product_type</th>\n",
              "      <th>level_1</th>\n",
              "      <th>category</th>\n",
              "    </tr>\n",
              "  </thead>\n",
              "  <tbody>\n",
              "    <tr>\n",
              "      <th>8249893</th>\n",
              "      <td>e6d3d9a3-e8ae-4921-9c10-72ad96a967dc</td>\n",
              "      <td>NaN</td>\n",
              "      <td>NaN</td>\n",
              "      <td>V29tZW5zIFRzaGlydHM</td>\n",
              "      <td>R3JhcGhpYyB0ZWU</td>\n",
              "      <td>Q2xvdGhpbmcgYW5kIEFjY2Vzc29yaWVz</td>\n",
              "    </tr>\n",
              "    <tr>\n",
              "      <th>722950</th>\n",
              "      <td>34777e55-adce-4de9-a212-cf902eec400b</td>\n",
              "      <td>$129</td>\n",
              "      <td>NaN</td>\n",
              "      <td>QmFja3BhY2s</td>\n",
              "      <td>QmFja3BhY2s</td>\n",
              "      <td>Q2xvdGhpbmcgYW5kIEFjY2Vzc29yaWVz</td>\n",
              "    </tr>\n",
              "    <tr>\n",
              "      <th>4611064</th>\n",
              "      <td>a4b61da4-a72b-418e-a20a-a330a2b451cb</td>\n",
              "      <td>NaN</td>\n",
              "      <td>NaN</td>\n",
              "      <td>d29tZW5zIFdhbGxldA</td>\n",
              "      <td>d29tZW5zIFdhbGxldA</td>\n",
              "      <td>Q2xvdGhpbmcgYW5kIEFjY2Vzc29yaWVz</td>\n",
              "    </tr>\n",
              "    <tr>\n",
              "      <th>9021071</th>\n",
              "      <td>169a4873-42f2-42a0-b72b-4b14325c945d</td>\n",
              "      <td>$0.00</td>\n",
              "      <td>NaN</td>\n",
              "      <td>Q2hlZWsgbWFrZSB1cA</td>\n",
              "      <td>UGlnbWVudGVkIEJsdXNo</td>\n",
              "      <td>YmVhdXR5IGFuZCBwZXJzb25hbCBjYXJl</td>\n",
              "    </tr>\n",
              "    <tr>\n",
              "      <th>3300207</th>\n",
              "      <td>cd25aa8e-35db-475a-b5ef-16f34e7fe92e</td>\n",
              "      <td>NaN</td>\n",
              "      <td>NaN</td>\n",
              "      <td>RG9nIHRveXMgcGV0</td>\n",
              "      <td>RG9nIHRveXM</td>\n",
              "      <td>cGV0IHN1cHBsaWVz</td>\n",
              "    </tr>\n",
              "  </tbody>\n",
              "</table>\n",
              "</div>\n",
              "      <button class=\"colab-df-convert\" onclick=\"convertToInteractive('df-e13fcec4-e417-47b2-993d-538a9d365cbf')\"\n",
              "              title=\"Convert this dataframe to an interactive table.\"\n",
              "              style=\"display:none;\">\n",
              "        \n",
              "  <svg xmlns=\"http://www.w3.org/2000/svg\" height=\"24px\"viewBox=\"0 0 24 24\"\n",
              "       width=\"24px\">\n",
              "    <path d=\"M0 0h24v24H0V0z\" fill=\"none\"/>\n",
              "    <path d=\"M18.56 5.44l.94 2.06.94-2.06 2.06-.94-2.06-.94-.94-2.06-.94 2.06-2.06.94zm-11 1L8.5 8.5l.94-2.06 2.06-.94-2.06-.94L8.5 2.5l-.94 2.06-2.06.94zm10 10l.94 2.06.94-2.06 2.06-.94-2.06-.94-.94-2.06-.94 2.06-2.06.94z\"/><path d=\"M17.41 7.96l-1.37-1.37c-.4-.4-.92-.59-1.43-.59-.52 0-1.04.2-1.43.59L10.3 9.45l-7.72 7.72c-.78.78-.78 2.05 0 2.83L4 21.41c.39.39.9.59 1.41.59.51 0 1.02-.2 1.41-.59l7.78-7.78 2.81-2.81c.8-.78.8-2.07 0-2.86zM5.41 20L4 18.59l7.72-7.72 1.47 1.35L5.41 20z\"/>\n",
              "  </svg>\n",
              "      </button>\n",
              "      \n",
              "  <style>\n",
              "    .colab-df-container {\n",
              "      display:flex;\n",
              "      flex-wrap:wrap;\n",
              "      gap: 12px;\n",
              "    }\n",
              "\n",
              "    .colab-df-convert {\n",
              "      background-color: #E8F0FE;\n",
              "      border: none;\n",
              "      border-radius: 50%;\n",
              "      cursor: pointer;\n",
              "      display: none;\n",
              "      fill: #1967D2;\n",
              "      height: 32px;\n",
              "      padding: 0 0 0 0;\n",
              "      width: 32px;\n",
              "    }\n",
              "\n",
              "    .colab-df-convert:hover {\n",
              "      background-color: #E2EBFA;\n",
              "      box-shadow: 0px 1px 2px rgba(60, 64, 67, 0.3), 0px 1px 3px 1px rgba(60, 64, 67, 0.15);\n",
              "      fill: #174EA6;\n",
              "    }\n",
              "\n",
              "    [theme=dark] .colab-df-convert {\n",
              "      background-color: #3B4455;\n",
              "      fill: #D2E3FC;\n",
              "    }\n",
              "\n",
              "    [theme=dark] .colab-df-convert:hover {\n",
              "      background-color: #434B5C;\n",
              "      box-shadow: 0px 1px 3px 1px rgba(0, 0, 0, 0.15);\n",
              "      filter: drop-shadow(0px 1px 2px rgba(0, 0, 0, 0.3));\n",
              "      fill: #FFFFFF;\n",
              "    }\n",
              "  </style>\n",
              "\n",
              "      <script>\n",
              "        const buttonEl =\n",
              "          document.querySelector('#df-e13fcec4-e417-47b2-993d-538a9d365cbf button.colab-df-convert');\n",
              "        buttonEl.style.display =\n",
              "          google.colab.kernel.accessAllowed ? 'block' : 'none';\n",
              "\n",
              "        async function convertToInteractive(key) {\n",
              "          const element = document.querySelector('#df-e13fcec4-e417-47b2-993d-538a9d365cbf');\n",
              "          const dataTable =\n",
              "            await google.colab.kernel.invokeFunction('convertToInteractive',\n",
              "                                                     [key], {});\n",
              "          if (!dataTable) return;\n",
              "\n",
              "          const docLinkHtml = 'Like what you see? Visit the ' +\n",
              "            '<a target=\"_blank\" href=https://colab.research.google.com/notebooks/data_table.ipynb>data table notebook</a>'\n",
              "            + ' to learn more about interactive tables.';\n",
              "          element.innerHTML = '';\n",
              "          dataTable['output_type'] = 'display_data';\n",
              "          await google.colab.output.renderOutput(dataTable, element);\n",
              "          const docLink = document.createElement('div');\n",
              "          docLink.innerHTML = docLinkHtml;\n",
              "          element.appendChild(docLink);\n",
              "        }\n",
              "      </script>\n",
              "    </div>\n",
              "  </div>\n",
              "  "
            ]
          },
          "metadata": {},
          "execution_count": 13
        }
      ]
    },
    {
      "cell_type": "code",
      "source": [
        "missing_values = pd.DataFrame({\n",
        "    'missing_values':data.isnull().sum(),\n",
        "    'percentage':data.isnull().sum()*100/data.shape[0]\n",
        "})\n",
        "\n",
        "missing_values.sort_values(by='missing_values', ascending=False)"
      ],
      "metadata": {
        "colab": {
          "base_uri": "https://localhost:8080/",
          "height": 238
        },
        "id": "zEu1wp0DEhcs",
        "outputId": "64f5dee7-5313-48eb-ea8d-5271f85720ea"
      },
      "execution_count": null,
      "outputs": [
        {
          "output_type": "execute_result",
          "data": {
            "text/plain": [
              "                  missing_values  percentage\n",
              "price_string_unf        13420000   97.742170\n",
              "price_string             8220000   59.868900\n",
              "level_1                    50000    0.364166\n",
              "product_type               10000    0.072833\n",
              "category                   10000    0.072833\n",
              "uuid                           0    0.000000"
            ],
            "text/html": [
              "\n",
              "  <div id=\"df-4a0313df-418c-475e-9880-36f484a444ec\">\n",
              "    <div class=\"colab-df-container\">\n",
              "      <div>\n",
              "<style scoped>\n",
              "    .dataframe tbody tr th:only-of-type {\n",
              "        vertical-align: middle;\n",
              "    }\n",
              "\n",
              "    .dataframe tbody tr th {\n",
              "        vertical-align: top;\n",
              "    }\n",
              "\n",
              "    .dataframe thead th {\n",
              "        text-align: right;\n",
              "    }\n",
              "</style>\n",
              "<table border=\"1\" class=\"dataframe\">\n",
              "  <thead>\n",
              "    <tr style=\"text-align: right;\">\n",
              "      <th></th>\n",
              "      <th>missing_values</th>\n",
              "      <th>percentage</th>\n",
              "    </tr>\n",
              "  </thead>\n",
              "  <tbody>\n",
              "    <tr>\n",
              "      <th>price_string_unf</th>\n",
              "      <td>13420000</td>\n",
              "      <td>97.742170</td>\n",
              "    </tr>\n",
              "    <tr>\n",
              "      <th>price_string</th>\n",
              "      <td>8220000</td>\n",
              "      <td>59.868900</td>\n",
              "    </tr>\n",
              "    <tr>\n",
              "      <th>level_1</th>\n",
              "      <td>50000</td>\n",
              "      <td>0.364166</td>\n",
              "    </tr>\n",
              "    <tr>\n",
              "      <th>product_type</th>\n",
              "      <td>10000</td>\n",
              "      <td>0.072833</td>\n",
              "    </tr>\n",
              "    <tr>\n",
              "      <th>category</th>\n",
              "      <td>10000</td>\n",
              "      <td>0.072833</td>\n",
              "    </tr>\n",
              "    <tr>\n",
              "      <th>uuid</th>\n",
              "      <td>0</td>\n",
              "      <td>0.000000</td>\n",
              "    </tr>\n",
              "  </tbody>\n",
              "</table>\n",
              "</div>\n",
              "      <button class=\"colab-df-convert\" onclick=\"convertToInteractive('df-4a0313df-418c-475e-9880-36f484a444ec')\"\n",
              "              title=\"Convert this dataframe to an interactive table.\"\n",
              "              style=\"display:none;\">\n",
              "        \n",
              "  <svg xmlns=\"http://www.w3.org/2000/svg\" height=\"24px\"viewBox=\"0 0 24 24\"\n",
              "       width=\"24px\">\n",
              "    <path d=\"M0 0h24v24H0V0z\" fill=\"none\"/>\n",
              "    <path d=\"M18.56 5.44l.94 2.06.94-2.06 2.06-.94-2.06-.94-.94-2.06-.94 2.06-2.06.94zm-11 1L8.5 8.5l.94-2.06 2.06-.94-2.06-.94L8.5 2.5l-.94 2.06-2.06.94zm10 10l.94 2.06.94-2.06 2.06-.94-2.06-.94-.94-2.06-.94 2.06-2.06.94z\"/><path d=\"M17.41 7.96l-1.37-1.37c-.4-.4-.92-.59-1.43-.59-.52 0-1.04.2-1.43.59L10.3 9.45l-7.72 7.72c-.78.78-.78 2.05 0 2.83L4 21.41c.39.39.9.59 1.41.59.51 0 1.02-.2 1.41-.59l7.78-7.78 2.81-2.81c.8-.78.8-2.07 0-2.86zM5.41 20L4 18.59l7.72-7.72 1.47 1.35L5.41 20z\"/>\n",
              "  </svg>\n",
              "      </button>\n",
              "      \n",
              "  <style>\n",
              "    .colab-df-container {\n",
              "      display:flex;\n",
              "      flex-wrap:wrap;\n",
              "      gap: 12px;\n",
              "    }\n",
              "\n",
              "    .colab-df-convert {\n",
              "      background-color: #E8F0FE;\n",
              "      border: none;\n",
              "      border-radius: 50%;\n",
              "      cursor: pointer;\n",
              "      display: none;\n",
              "      fill: #1967D2;\n",
              "      height: 32px;\n",
              "      padding: 0 0 0 0;\n",
              "      width: 32px;\n",
              "    }\n",
              "\n",
              "    .colab-df-convert:hover {\n",
              "      background-color: #E2EBFA;\n",
              "      box-shadow: 0px 1px 2px rgba(60, 64, 67, 0.3), 0px 1px 3px 1px rgba(60, 64, 67, 0.15);\n",
              "      fill: #174EA6;\n",
              "    }\n",
              "\n",
              "    [theme=dark] .colab-df-convert {\n",
              "      background-color: #3B4455;\n",
              "      fill: #D2E3FC;\n",
              "    }\n",
              "\n",
              "    [theme=dark] .colab-df-convert:hover {\n",
              "      background-color: #434B5C;\n",
              "      box-shadow: 0px 1px 3px 1px rgba(0, 0, 0, 0.15);\n",
              "      filter: drop-shadow(0px 1px 2px rgba(0, 0, 0, 0.3));\n",
              "      fill: #FFFFFF;\n",
              "    }\n",
              "  </style>\n",
              "\n",
              "      <script>\n",
              "        const buttonEl =\n",
              "          document.querySelector('#df-4a0313df-418c-475e-9880-36f484a444ec button.colab-df-convert');\n",
              "        buttonEl.style.display =\n",
              "          google.colab.kernel.accessAllowed ? 'block' : 'none';\n",
              "\n",
              "        async function convertToInteractive(key) {\n",
              "          const element = document.querySelector('#df-4a0313df-418c-475e-9880-36f484a444ec');\n",
              "          const dataTable =\n",
              "            await google.colab.kernel.invokeFunction('convertToInteractive',\n",
              "                                                     [key], {});\n",
              "          if (!dataTable) return;\n",
              "\n",
              "          const docLinkHtml = 'Like what you see? Visit the ' +\n",
              "            '<a target=\"_blank\" href=https://colab.research.google.com/notebooks/data_table.ipynb>data table notebook</a>'\n",
              "            + ' to learn more about interactive tables.';\n",
              "          element.innerHTML = '';\n",
              "          dataTable['output_type'] = 'display_data';\n",
              "          await google.colab.output.renderOutput(dataTable, element);\n",
              "          const docLink = document.createElement('div');\n",
              "          docLink.innerHTML = docLinkHtml;\n",
              "          element.appendChild(docLink);\n",
              "        }\n",
              "      </script>\n",
              "    </div>\n",
              "  </div>\n",
              "  "
            ]
          },
          "metadata": {},
          "execution_count": 14
        }
      ]
    },
    {
      "cell_type": "code",
      "source": [
        "plt.rcParams['figure.figsize'] = [25,10]"
      ],
      "metadata": {
        "id": "KJY4grR5HRh0"
      },
      "execution_count": null,
      "outputs": []
    },
    {
      "cell_type": "code",
      "source": [
        "ax = sns.countplot(y='product_type', data=data, order=data.product_type.value_counts().iloc[:10].index)\n",
        "ax.bar_label(ax.containers[0], padding=1)\n",
        "plt.title('Count of the product', fontsize=20)\n",
        "plt.xlabel('Product Type', fontsize=30)\n",
        "plt.ylabel('Count', fontsize=30)\n",
        "plt.show()"
      ],
      "metadata": {
        "id": "gLlS33GHGm-l",
        "colab": {
          "base_uri": "https://localhost:8080/",
          "height": 445
        },
        "outputId": "a29a630c-247d-43fe-cafa-418e104984ff"
      },
      "execution_count": null,
      "outputs": [
        {
          "output_type": "display_data",
          "data": {
            "text/plain": [
              "<Figure size 1800x720 with 1 Axes>"
            ],
            "image/png": "[encoded data removed]"
          },
          "metadata": {}
        }
      ]
    },
    {
      "cell_type": "code",
      "source": [
        "data.product_type.value_counts().plot()\n",
        "plt.show()"
      ],
      "metadata": {
        "colab": {
          "base_uri": "https://localhost:8080/",
          "height": 506
        },
        "id": "y026xmsrOSsw",
        "outputId": "e13cdbf0-2511-4653-e9ec-bf140ae80bd5"
      },
      "execution_count": null,
      "outputs": [
        {
          "output_type": "display_data",
          "data": {
            "text/plain": [
              "<Figure size 1800x720 with 1 Axes>"
            ],
            "image/png": "[encoded data removed]"
          },
          "metadata": {}
        }
      ]
    },
    {
      "cell_type": "markdown",
      "source": [
        "### **1. Products without prices**"
      ],
      "metadata": {
        "id": "NP9yOkM6OkQX"
      }
    },
    {
      "cell_type": "code",
      "source": [
        "product_without_price =   data[data['price_string'].isnull()][['uuid', 'product_type', 'price_string']].reset_index(drop=True)\n",
        "product_without_price"
      ],
      "metadata": {
        "colab": {
          "base_uri": "https://localhost:8080/",
          "height": 424
        },
        "id": "aDQsxQBJkMpe",
        "outputId": "3e2faf28-7fd0-4fba-a1b2-61f8c23951f6"
      },
      "execution_count": null,
      "outputs": [
        {
          "output_type": "execute_result",
          "data": {
            "text/plain": [
              "                                         uuid  \\\n",
              "0        638744a4-b0ae-4166-8cb6-5c063c862036   \n",
              "1        ab313969-02cc-48b2-9daf-0054efb70b92   \n",
              "2        389d9f75-cc3f-4bd2-94f7-93e381a3bed5   \n",
              "3        1f2766ec-0a27-43f8-b28b-77a44492ead1   \n",
              "4        7bad39f5-74b9-4611-afb9-46fb135190cd   \n",
              "...                                       ...   \n",
              "8219995  8d763911-79b7-402d-8964-6bfe89692c66   \n",
              "8219996  2dc182aa-d591-49e4-85d1-5c4a60a09664   \n",
              "8219997  2a13338e-9268-4f7b-9e7c-b8c41c72971b   \n",
              "8219998  679f073a-862a-4e43-b5ce-41e45afd3bfa   \n",
              "8219999  25677eee-c26b-4abf-bd10-ca77a800ba26   \n",
              "\n",
              "                                product_type price_string  \n",
              "0                   TGFwdG9wIENvdmVycy9CYWdz          NaN  \n",
              "1                QmFraW5nIEN1cHMgYW5kIE1hdHM          NaN  \n",
              "2         TmF0dXJhbCBTd2VldGVuZXJzLyBTdWdhcg          NaN  \n",
              "3        U2NydWJzIGFuZCBjbGVhbmluZyBjbG90aHM          NaN  \n",
              "4                UGx1cyBzaXplIHdlYXIgZHJlc3M          NaN  \n",
              "...                                      ...          ...  \n",
              "8219995  TWVucyB3b3Jrd2Vhci8gb2ZmaWNlIHdlYXI          NaN  \n",
              "8219996                             U3BpY2Vz          NaN  \n",
              "8219997                           RHJlc3Nlcw          NaN  \n",
              "8219998                          UGV0IEZvb2Q          NaN  \n",
              "8219999                              U2F1Y2U          NaN  \n",
              "\n",
              "[8220000 rows x 3 columns]"
            ],
            "text/html": [
              "\n",
              "  <div id=\"df-2adcd343-8fc4-49c3-a567-efbcf44561e8\">\n",
              "    <div class=\"colab-df-container\">\n",
              "      <div>\n",
              "<style scoped>\n",
              "    .dataframe tbody tr th:only-of-type {\n",
              "        vertical-align: middle;\n",
              "    }\n",
              "\n",
              "    .dataframe tbody tr th {\n",
              "        vertical-align: top;\n",
              "    }\n",
              "\n",
              "    .dataframe thead th {\n",
              "        text-align: right;\n",
              "    }\n",
              "</style>\n",
              "<table border=\"1\" class=\"dataframe\">\n",
              "  <thead>\n",
              "    <tr style=\"text-align: right;\">\n",
              "      <th></th>\n",
              "      <th>uuid</th>\n",
              "      <th>product_type</th>\n",
              "      <th>price_string</th>\n",
              "    </tr>\n",
              "  </thead>\n",
              "  <tbody>\n",
              "    <tr>\n",
              "      <th>0</th>\n",
              "      <td>638744a4-b0ae-4166-8cb6-5c063c862036</td>\n",
              "      <td>TGFwdG9wIENvdmVycy9CYWdz</td>\n",
              "      <td>NaN</td>\n",
              "    </tr>\n",
              "    <tr>\n",
              "      <th>1</th>\n",
              "      <td>ab313969-02cc-48b2-9daf-0054efb70b92</td>\n",
              "      <td>QmFraW5nIEN1cHMgYW5kIE1hdHM</td>\n",
              "      <td>NaN</td>\n",
              "    </tr>\n",
              "    <tr>\n",
              "      <th>2</th>\n",
              "      <td>389d9f75-cc3f-4bd2-94f7-93e381a3bed5</td>\n",
              "      <td>TmF0dXJhbCBTd2VldGVuZXJzLyBTdWdhcg</td>\n",
              "      <td>NaN</td>\n",
              "    </tr>\n",
              "    <tr>\n",
              "      <th>3</th>\n",
              "      <td>1f2766ec-0a27-43f8-b28b-77a44492ead1</td>\n",
              "      <td>U2NydWJzIGFuZCBjbGVhbmluZyBjbG90aHM</td>\n",
              "      <td>NaN</td>\n",
              "    </tr>\n",
              "    <tr>\n",
              "      <th>4</th>\n",
              "      <td>7bad39f5-74b9-4611-afb9-46fb135190cd</td>\n",
              "      <td>UGx1cyBzaXplIHdlYXIgZHJlc3M</td>\n",
              "      <td>NaN</td>\n",
              "    </tr>\n",
              "    <tr>\n",
              "      <th>...</th>\n",
              "      <td>...</td>\n",
              "      <td>...</td>\n",
              "      <td>...</td>\n",
              "    </tr>\n",
              "    <tr>\n",
              "      <th>8219995</th>\n",
              "      <td>8d763911-79b7-402d-8964-6bfe89692c66</td>\n",
              "      <td>TWVucyB3b3Jrd2Vhci8gb2ZmaWNlIHdlYXI</td>\n",
              "      <td>NaN</td>\n",
              "    </tr>\n",
              "    <tr>\n",
              "      <th>8219996</th>\n",
              "      <td>2dc182aa-d591-49e4-85d1-5c4a60a09664</td>\n",
              "      <td>U3BpY2Vz</td>\n",
              "      <td>NaN</td>\n",
              "    </tr>\n",
              "    <tr>\n",
              "      <th>8219997</th>\n",
              "      <td>2a13338e-9268-4f7b-9e7c-b8c41c72971b</td>\n",
              "      <td>RHJlc3Nlcw</td>\n",
              "      <td>NaN</td>\n",
              "    </tr>\n",
              "    <tr>\n",
              "      <th>8219998</th>\n",
              "      <td>679f073a-862a-4e43-b5ce-41e45afd3bfa</td>\n",
              "      <td>UGV0IEZvb2Q</td>\n",
              "      <td>NaN</td>\n",
              "    </tr>\n",
              "    <tr>\n",
              "      <th>8219999</th>\n",
              "      <td>25677eee-c26b-4abf-bd10-ca77a800ba26</td>\n",
              "      <td>U2F1Y2U</td>\n",
              "      <td>NaN</td>\n",
              "    </tr>\n",
              "  </tbody>\n",
              "</table>\n",
              "<p>8220000 rows × 3 columns</p>\n",
              "</div>\n",
              "      <button class=\"colab-df-convert\" onclick=\"convertToInteractive('df-2adcd343-8fc4-49c3-a567-efbcf44561e8')\"\n",
              "              title=\"Convert this dataframe to an interactive table.\"\n",
              "              style=\"display:none;\">\n",
              "        \n",
              "  <svg xmlns=\"http://www.w3.org/2000/svg\" height=\"24px\"viewBox=\"0 0 24 24\"\n",
              "       width=\"24px\">\n",
              "    <path d=\"M0 0h24v24H0V0z\" fill=\"none\"/>\n",
              "    <path d=\"M18.56 5.44l.94 2.06.94-2.06 2.06-.94-2.06-.94-.94-2.06-.94 2.06-2.06.94zm-11 1L8.5 8.5l.94-2.06 2.06-.94-2.06-.94L8.5 2.5l-.94 2.06-2.06.94zm10 10l.94 2.06.94-2.06 2.06-.94-2.06-.94-.94-2.06-.94 2.06-2.06.94z\"/><path d=\"M17.41 7.96l-1.37-1.37c-.4-.4-.92-.59-1.43-.59-.52 0-1.04.2-1.43.59L10.3 9.45l-7.72 7.72c-.78.78-.78 2.05 0 2.83L4 21.41c.39.39.9.59 1.41.59.51 0 1.02-.2 1.41-.59l7.78-7.78 2.81-2.81c.8-.78.8-2.07 0-2.86zM5.41 20L4 18.59l7.72-7.72 1.47 1.35L5.41 20z\"/>\n",
              "  </svg>\n",
              "      </button>\n",
              "      \n",
              "  <style>\n",
              "    .colab-df-container {\n",
              "      display:flex;\n",
              "      flex-wrap:wrap;\n",
              "      gap: 12px;\n",
              "    }\n",
              "\n",
              "    .colab-df-convert {\n",
              "      background-color: #E8F0FE;\n",
              "      border: none;\n",
              "      border-radius: 50%;\n",
              "      cursor: pointer;\n",
              "      display: none;\n",
              "      fill: #1967D2;\n",
              "      height: 32px;\n",
              "      padding: 0 0 0 0;\n",
              "      width: 32px;\n",
              "    }\n",
              "\n",
              "    .colab-df-convert:hover {\n",
              "      background-color: #E2EBFA;\n",
              "      box-shadow: 0px 1px 2px rgba(60, 64, 67, 0.3), 0px 1px 3px 1px rgba(60, 64, 67, 0.15);\n",
              "      fill: #174EA6;\n",
              "    }\n",
              "\n",
              "    [theme=dark] .colab-df-convert {\n",
              "      background-color: #3B4455;\n",
              "      fill: #D2E3FC;\n",
              "    }\n",
              "\n",
              "    [theme=dark] .colab-df-convert:hover {\n",
              "      background-color: #434B5C;\n",
              "      box-shadow: 0px 1px 3px 1px rgba(0, 0, 0, 0.15);\n",
              "      filter: drop-shadow(0px 1px 2px rgba(0, 0, 0, 0.3));\n",
              "      fill: #FFFFFF;\n",
              "    }\n",
              "  </style>\n",
              "\n",
              "      <script>\n",
              "        const buttonEl =\n",
              "          document.querySelector('#df-2adcd343-8fc4-49c3-a567-efbcf44561e8 button.colab-df-convert');\n",
              "        buttonEl.style.display =\n",
              "          google.colab.kernel.accessAllowed ? 'block' : 'none';\n",
              "\n",
              "        async function convertToInteractive(key) {\n",
              "          const element = document.querySelector('#df-2adcd343-8fc4-49c3-a567-efbcf44561e8');\n",
              "          const dataTable =\n",
              "            await google.colab.kernel.invokeFunction('convertToInteractive',\n",
              "                                                     [key], {});\n",
              "          if (!dataTable) return;\n",
              "\n",
              "          const docLinkHtml = 'Like what you see? Visit the ' +\n",
              "            '<a target=\"_blank\" href=https://colab.research.google.com/notebooks/data_table.ipynb>data table notebook</a>'\n",
              "            + ' to learn more about interactive tables.';\n",
              "          element.innerHTML = '';\n",
              "          dataTable['output_type'] = 'display_data';\n",
              "          await google.colab.output.renderOutput(dataTable, element);\n",
              "          const docLink = document.createElement('div');\n",
              "          docLink.innerHTML = docLinkHtml;\n",
              "          element.appendChild(docLink);\n",
              "        }\n",
              "      </script>\n",
              "    </div>\n",
              "  </div>\n",
              "  "
            ]
          },
          "metadata": {},
          "execution_count": 18
        }
      ]
    },
    {
      "cell_type": "markdown",
      "source": [
        "There are in total `8220000` product that does not have price."
      ],
      "metadata": {
        "id": "mUilSySaqcf6"
      }
    },
    {
      "cell_type": "markdown",
      "source": [
        "Following `product_type` have null values "
      ],
      "metadata": {
        "id": "OHask0VqZPVC"
      }
    },
    {
      "cell_type": "code",
      "source": [
        "X = pd.DataFrame({\n",
        "    'count':product_without_price.value_counts('product_type'),\n",
        "    'percentage':product_without_price.value_counts('product_type', normalize=True)*100\n",
        "})"
      ],
      "metadata": {
        "id": "cp3O7EXiq-dv"
      },
      "execution_count": null,
      "outputs": []
    },
    {
      "cell_type": "code",
      "source": [
        "X.reset_index()"
      ],
      "metadata": {
        "colab": {
          "base_uri": "https://localhost:8080/",
          "height": 424
        },
        "id": "30PUfYtiqbWJ",
        "outputId": "86ea3736-c9a3-4396-dc7c-8500be35d109"
      },
      "execution_count": null,
      "outputs": [
        {
          "output_type": "execute_result",
          "data": {
            "text/plain": [
              "                               product_type   count  percentage\n",
              "0                      V29tZW5zIHN3aW13ZWFy  140000    1.705238\n",
              "1    V29tZW5zIHdvcmt3ZWFyLyBvZmZpY2Ugd2Vhcg  130000    1.583435\n",
              "2           VG9kZGxlcnMvbmV3Ym9ybiBiYWJpZXM  130000    1.583435\n",
              "3                       UGx1cyBzaXplIHdlYXI  120000    1.461632\n",
              "4                          VmVoaWNsZSBUb3lz  120000    1.461632\n",
              "..                                      ...     ...         ...\n",
              "273      U3RhaW4gYW5kIG9kb3IgZWxpbWluYXRvcg   10000    0.121803\n",
              "274                          U3BvcnRzIEJyYQ   10000    0.121803\n",
              "275                                U3BpY2Vz   10000    0.121803\n",
              "276             RGVvZG9yYW50cyBmb3Igd29tZW4   10000    0.121803\n",
              "277                      TWVucyBzd2ltd2Vhcg   10000    0.121803\n",
              "\n",
              "[278 rows x 3 columns]"
            ],
            "text/html": [
              "\n",
              "  <div id=\"df-a106c67d-be0c-497a-9a17-6c724851e7b2\">\n",
              "    <div class=\"colab-df-container\">\n",
              "      <div>\n",
              "<style scoped>\n",
              "    .dataframe tbody tr th:only-of-type {\n",
              "        vertical-align: middle;\n",
              "    }\n",
              "\n",
              "    .dataframe tbody tr th {\n",
              "        vertical-align: top;\n",
              "    }\n",
              "\n",
              "    .dataframe thead th {\n",
              "        text-align: right;\n",
              "    }\n",
              "</style>\n",
              "<table border=\"1\" class=\"dataframe\">\n",
              "  <thead>\n",
              "    <tr style=\"text-align: right;\">\n",
              "      <th></th>\n",
              "      <th>product_type</th>\n",
              "      <th>count</th>\n",
              "      <th>percentage</th>\n",
              "    </tr>\n",
              "  </thead>\n",
              "  <tbody>\n",
              "    <tr>\n",
              "      <th>0</th>\n",
              "      <td>V29tZW5zIHN3aW13ZWFy</td>\n",
              "      <td>140000</td>\n",
              "      <td>1.705238</td>\n",
              "    </tr>\n",
              "    <tr>\n",
              "      <th>1</th>\n",
              "      <td>V29tZW5zIHdvcmt3ZWFyLyBvZmZpY2Ugd2Vhcg</td>\n",
              "      <td>130000</td>\n",
              "      <td>1.583435</td>\n",
              "    </tr>\n",
              "    <tr>\n",
              "      <th>2</th>\n",
              "      <td>VG9kZGxlcnMvbmV3Ym9ybiBiYWJpZXM</td>\n",
              "      <td>130000</td>\n",
              "      <td>1.583435</td>\n",
              "    </tr>\n",
              "    <tr>\n",
              "      <th>3</th>\n",
              "      <td>UGx1cyBzaXplIHdlYXI</td>\n",
              "      <td>120000</td>\n",
              "      <td>1.461632</td>\n",
              "    </tr>\n",
              "    <tr>\n",
              "      <th>4</th>\n",
              "      <td>VmVoaWNsZSBUb3lz</td>\n",
              "      <td>120000</td>\n",
              "      <td>1.461632</td>\n",
              "    </tr>\n",
              "    <tr>\n",
              "      <th>...</th>\n",
              "      <td>...</td>\n",
              "      <td>...</td>\n",
              "      <td>...</td>\n",
              "    </tr>\n",
              "    <tr>\n",
              "      <th>273</th>\n",
              "      <td>U3RhaW4gYW5kIG9kb3IgZWxpbWluYXRvcg</td>\n",
              "      <td>10000</td>\n",
              "      <td>0.121803</td>\n",
              "    </tr>\n",
              "    <tr>\n",
              "      <th>274</th>\n",
              "      <td>U3BvcnRzIEJyYQ</td>\n",
              "      <td>10000</td>\n",
              "      <td>0.121803</td>\n",
              "    </tr>\n",
              "    <tr>\n",
              "      <th>275</th>\n",
              "      <td>U3BpY2Vz</td>\n",
              "      <td>10000</td>\n",
              "      <td>0.121803</td>\n",
              "    </tr>\n",
              "    <tr>\n",
              "      <th>276</th>\n",
              "      <td>RGVvZG9yYW50cyBmb3Igd29tZW4</td>\n",
              "      <td>10000</td>\n",
              "      <td>0.121803</td>\n",
              "    </tr>\n",
              "    <tr>\n",
              "      <th>277</th>\n",
              "      <td>TWVucyBzd2ltd2Vhcg</td>\n",
              "      <td>10000</td>\n",
              "      <td>0.121803</td>\n",
              "    </tr>\n",
              "  </tbody>\n",
              "</table>\n",
              "<p>278 rows × 3 columns</p>\n",
              "</div>\n",
              "      <button class=\"colab-df-convert\" onclick=\"convertToInteractive('df-a106c67d-be0c-497a-9a17-6c724851e7b2')\"\n",
              "              title=\"Convert this dataframe to an interactive table.\"\n",
              "              style=\"display:none;\">\n",
              "        \n",
              "  <svg xmlns=\"http://www.w3.org/2000/svg\" height=\"24px\"viewBox=\"0 0 24 24\"\n",
              "       width=\"24px\">\n",
              "    <path d=\"M0 0h24v24H0V0z\" fill=\"none\"/>\n",
              "    <path d=\"M18.56 5.44l.94 2.06.94-2.06 2.06-.94-2.06-.94-.94-2.06-.94 2.06-2.06.94zm-11 1L8.5 8.5l.94-2.06 2.06-.94-2.06-.94L8.5 2.5l-.94 2.06-2.06.94zm10 10l.94 2.06.94-2.06 2.06-.94-2.06-.94-.94-2.06-.94 2.06-2.06.94z\"/><path d=\"M17.41 7.96l-1.37-1.37c-.4-.4-.92-.59-1.43-.59-.52 0-1.04.2-1.43.59L10.3 9.45l-7.72 7.72c-.78.78-.78 2.05 0 2.83L4 21.41c.39.39.9.59 1.41.59.51 0 1.02-.2 1.41-.59l7.78-7.78 2.81-2.81c.8-.78.8-2.07 0-2.86zM5.41 20L4 18.59l7.72-7.72 1.47 1.35L5.41 20z\"/>\n",
              "  </svg>\n",
              "      </button>\n",
              "      \n",
              "  <style>\n",
              "    .colab-df-container {\n",
              "      display:flex;\n",
              "      flex-wrap:wrap;\n",
              "      gap: 12px;\n",
              "    }\n",
              "\n",
              "    .colab-df-convert {\n",
              "      background-color: #E8F0FE;\n",
              "      border: none;\n",
              "      border-radius: 50%;\n",
              "      cursor: pointer;\n",
              "      display: none;\n",
              "      fill: #1967D2;\n",
              "      height: 32px;\n",
              "      padding: 0 0 0 0;\n",
              "      width: 32px;\n",
              "    }\n",
              "\n",
              "    .colab-df-convert:hover {\n",
              "      background-color: #E2EBFA;\n",
              "      box-shadow: 0px 1px 2px rgba(60, 64, 67, 0.3), 0px 1px 3px 1px rgba(60, 64, 67, 0.15);\n",
              "      fill: #174EA6;\n",
              "    }\n",
              "\n",
              "    [theme=dark] .colab-df-convert {\n",
              "      background-color: #3B4455;\n",
              "      fill: #D2E3FC;\n",
              "    }\n",
              "\n",
              "    [theme=dark] .colab-df-convert:hover {\n",
              "      background-color: #434B5C;\n",
              "      box-shadow: 0px 1px 3px 1px rgba(0, 0, 0, 0.15);\n",
              "      filter: drop-shadow(0px 1px 2px rgba(0, 0, 0, 0.3));\n",
              "      fill: #FFFFFF;\n",
              "    }\n",
              "  </style>\n",
              "\n",
              "      <script>\n",
              "        const buttonEl =\n",
              "          document.querySelector('#df-a106c67d-be0c-497a-9a17-6c724851e7b2 button.colab-df-convert');\n",
              "        buttonEl.style.display =\n",
              "          google.colab.kernel.accessAllowed ? 'block' : 'none';\n",
              "\n",
              "        async function convertToInteractive(key) {\n",
              "          const element = document.querySelector('#df-a106c67d-be0c-497a-9a17-6c724851e7b2');\n",
              "          const dataTable =\n",
              "            await google.colab.kernel.invokeFunction('convertToInteractive',\n",
              "                                                     [key], {});\n",
              "          if (!dataTable) return;\n",
              "\n",
              "          const docLinkHtml = 'Like what you see? Visit the ' +\n",
              "            '<a target=\"_blank\" href=https://colab.research.google.com/notebooks/data_table.ipynb>data table notebook</a>'\n",
              "            + ' to learn more about interactive tables.';\n",
              "          element.innerHTML = '';\n",
              "          dataTable['output_type'] = 'display_data';\n",
              "          await google.colab.output.renderOutput(dataTable, element);\n",
              "          const docLink = document.createElement('div');\n",
              "          docLink.innerHTML = docLinkHtml;\n",
              "          element.appendChild(docLink);\n",
              "        }\n",
              "      </script>\n",
              "    </div>\n",
              "  </div>\n",
              "  "
            ]
          },
          "metadata": {},
          "execution_count": 20
        }
      ]
    },
    {
      "cell_type": "markdown",
      "source": [
        "There are total `278` product_type which have null values"
      ],
      "metadata": {
        "id": "SF8WmLrYr3F_"
      }
    },
    {
      "cell_type": "markdown",
      "source": [
        "### **2. Count of products without prices and with prices in each Product Type, Category, Level 1** "
      ],
      "metadata": {
        "id": "5RsE9XGSsG7O"
      }
    },
    {
      "cell_type": "markdown",
      "source": [
        "`Count with Price`"
      ],
      "metadata": {
        "id": "_A1NAggVsfVI"
      }
    },
    {
      "cell_type": "code",
      "source": [
        "data.loc[data['price_string'].notnull()]['product_type'].value_counts()"
      ],
      "metadata": {
        "colab": {
          "base_uri": "https://localhost:8080/"
        },
        "id": "NOLAJVr2sOmS",
        "outputId": "76c4e85f-2403-4c38-87ad-a554095cc699"
      },
      "execution_count": null,
      "outputs": [
        {
          "output_type": "execute_result",
          "data": {
            "text/plain": [
              "U2NydWJzIGFuZCBjbGVhbmluZyBjbG90aHM        140000\n",
              "d29tZW5zIE91dGVyd2Vhcg                     130000\n",
              "Q29va2luZyBVdGVuc2lscw                     110000\n",
              "V29tZW5zIFBhbnRz                            90000\n",
              "WW9nYSBBY2Nlc3Nvcmllcy8gR2Vhcg              90000\n",
              "                                            ...  \n",
              "TWVjaGFuaWNhbCBQZW5jaWxz                    10000\n",
              "UGV0IHBvb3AgYmFncyB3aXRoIGRpc3BlbnNlcnM     10000\n",
              "UnVncw                                      10000\n",
              "SnVtcHN1aXRzL092ZXJhbGw                     10000\n",
              "QmFieSBTb2Fw                                10000\n",
              "Name: product_type, Length: 209, dtype: int64"
            ]
          },
          "metadata": {},
          "execution_count": 21
        }
      ]
    },
    {
      "cell_type": "code",
      "source": [
        "data.loc[data['price_string'].notnull()]['category'].value_counts()"
      ],
      "metadata": {
        "colab": {
          "base_uri": "https://localhost:8080/"
        },
        "id": "4akdEaAVuAm3",
        "outputId": "cb71cf67-53d3-4b70-f227-f1528ac00ea1"
      },
      "execution_count": null,
      "outputs": [
        {
          "output_type": "execute_result",
          "data": {
            "text/plain": [
              "Q2xvdGhpbmcgYW5kIEFjY2Vzc29yaWVz       1860000\n",
              "YmVhdXR5IGFuZCBwZXJzb25hbCBjYXJl        750000\n",
              "SG91c2Vob2xkIGFuZCBDbGVhbmluZw          700000\n",
              "Z3JvY2VyaWVz                            480000\n",
              "a2l0Y2hpbmcgYW5kIGRpbmluZw              340000\n",
              "SGVhbHRo                                290000\n",
              "VG9vbHMgYW5kIGhvbWUgaW1wcm92ZW1lbnQ     200000\n",
              "VG95cyBhbmQgR2FtZXM                     190000\n",
              "QXJ0IHN1cHBsaWVz                        190000\n",
              "cGV0IHN1cHBsaWVz                        160000\n",
              "b2ZmaWNlIHByb2R1Y3Rz                    150000\n",
              "RWxlY3Ryb25pY3M                         110000\n",
              "QmFieWNhcmU                              90000\n",
              "Name: category, dtype: int64"
            ]
          },
          "metadata": {},
          "execution_count": 22
        }
      ]
    },
    {
      "cell_type": "code",
      "source": [
        "data.loc[data['price_string'].notnull()]['level_1'].value_counts()"
      ],
      "metadata": {
        "colab": {
          "base_uri": "https://localhost:8080/"
        },
        "id": "hhPY236huAiX",
        "outputId": "5c48c1a4-f8ae-472f-dd37-a3467955b37a"
      },
      "execution_count": null,
      "outputs": [
        {
          "output_type": "execute_result",
          "data": {
            "text/plain": [
              "U3Bvb24sIEtuaWZlIGFuZCBGb3Jr       60000\n",
              "Q2xlYW5pbmcgY2xvdGg                50000\n",
              "UHVmZmVyIEphY2tldA                 50000\n",
              "TWVucyBTdHJhaWdodCBGaXQgamVhbnM    50000\n",
              "U2NydWJz                           40000\n",
              "                                   ...  \n",
              "T25lIHBpZWNlIHN3aW1zdWl0           10000\n",
              "RG9nIFdpcGVz                       10000\n",
              "VHJhc2ggQmFncw                     10000\n",
              "TWVucyBzbmVha2Vycw                 10000\n",
              "UHVwcHkgU2hhbXBvbw                 10000\n",
              "Name: level_1, Length: 366, dtype: int64"
            ]
          },
          "metadata": {},
          "execution_count": 23
        }
      ]
    },
    {
      "cell_type": "markdown",
      "source": [
        "`Count without Price`"
      ],
      "metadata": {
        "id": "x4HGOWYvuKFx"
      }
    },
    {
      "cell_type": "code",
      "source": [
        "data.loc[data['price_string'].isnull()]['product_type'].value_counts()"
      ],
      "metadata": {
        "colab": {
          "base_uri": "https://localhost:8080/"
        },
        "id": "FNa7eaVPuBUv",
        "outputId": "d9146fe1-41d6-4acb-d1bb-6c7cacbae110"
      },
      "execution_count": null,
      "outputs": [
        {
          "output_type": "execute_result",
          "data": {
            "text/plain": [
              "V29tZW5zIHN3aW13ZWFy                      140000\n",
              "V29tZW5zIHdvcmt3ZWFyLyBvZmZpY2Ugd2Vhcg    130000\n",
              "VG9kZGxlcnMvbmV3Ym9ybiBiYWJpZXM           130000\n",
              "VmVoaWNsZSBUb3lz                          120000\n",
              "UGx1cyBzaXplIHdlYXI                       120000\n",
              "                                           ...  \n",
              "Um9sbGluZyBQaW4                            10000\n",
              "V29ya291dCBMZWdnaW5ncw                     10000\n",
              "TWVucyBKYWNrZXQ                            10000\n",
              "U25lYWtlcnMgc2hvZXM                        10000\n",
              "WW9nYSBNYXRz                               10000\n",
              "Name: product_type, Length: 278, dtype: int64"
            ]
          },
          "metadata": {},
          "execution_count": 24
        }
      ]
    },
    {
      "cell_type": "code",
      "source": [
        "data.loc[data['price_string'].isnull()]['category'].value_counts()"
      ],
      "metadata": {
        "colab": {
          "base_uri": "https://localhost:8080/"
        },
        "id": "S0XrewLyuNo3",
        "outputId": "96b801ab-0846-400a-c055-4811bfc873b2"
      },
      "execution_count": null,
      "outputs": [
        {
          "output_type": "execute_result",
          "data": {
            "text/plain": [
              "Q2xvdGhpbmcgYW5kIEFjY2Vzc29yaWVz       2050000\n",
              "Z3JvY2VyaWVz                           1130000\n",
              "SG91c2Vob2xkIGFuZCBDbGVhbmluZw          870000\n",
              "YmVhdXR5IGFuZCBwZXJzb25hbCBjYXJl        720000\n",
              "SGVhbHRo                                700000\n",
              "VG95cyBhbmQgR2FtZXM                     600000\n",
              "cGV0IHN1cHBsaWVz                        580000\n",
              "QmFieWNhcmU                             570000\n",
              "VG9vbHMgYW5kIGhvbWUgaW1wcm92ZW1lbnQ     320000\n",
              "a2l0Y2hpbmcgYW5kIGRpbmluZw              250000\n",
              "RWxlY3Ryb25pY3M                         210000\n",
              "QXJ0IHN1cHBsaWVz                        130000\n",
              "b2ZmaWNlIHByb2R1Y3Rz                     80000\n",
              "Name: category, dtype: int64"
            ]
          },
          "metadata": {},
          "execution_count": 25
        }
      ]
    },
    {
      "cell_type": "code",
      "source": [
        "data.loc[data['price_string'].isnull()]['level_1'].value_counts()"
      ],
      "metadata": {
        "colab": {
          "base_uri": "https://localhost:8080/"
        },
        "id": "uEjW_Sb9uNmH",
        "outputId": "849fb5d3-6479-4294-c09c-907c279297b4"
      },
      "execution_count": null,
      "outputs": [
        {
          "output_type": "execute_result",
          "data": {
            "text/plain": [
              "Rm9ybWFsIFN1aXRz                  60000\n",
              "U3dlYXRzaGlydA                    60000\n",
              "U29ja3M                           50000\n",
              "Rm9ybWFsIFBhbnRz                  50000\n",
              "TXVsdGl2aXRhbWluIGd1bW1pZXM       40000\n",
              "                                  ...  \n",
              "U29hcCBCYXI                       10000\n",
              "RGlzaCBjbG90aA                    10000\n",
              "UG90IHNjcnVicw                    10000\n",
              "V29tZW5zIGJyaWVmcw                10000\n",
              "RWNvIGZyaWVuZGx5IHlvZ2EgbWF0cw    10000\n",
              "Name: level_1, Length: 476, dtype: int64"
            ]
          },
          "metadata": {},
          "execution_count": 26
        }
      ]
    },
    {
      "cell_type": "markdown",
      "source": [
        "### **3. Correct Product Prices in the correct format (eg: $56) wherever possible and separate them into currency and value columns.** \n"
      ],
      "metadata": {
        "id": "c_E0Fk04ulFI"
      }
    },
    {
      "cell_type": "code",
      "source": [
        "data['price_value'] = data['price_string'].map(lambda x : x.replace('$', '') if type(x) == str else x)\n",
        "data['currency'] = data['price_string'].map(lambda x : '$' if type(x) == str else x)"
      ],
      "metadata": {
        "id": "jkkZiwTTuggh"
      },
      "execution_count": null,
      "outputs": []
    },
    {
      "cell_type": "code",
      "source": [
        "data['price_unf_value'] = data['price_string_unf'].map(lambda x : x.replace('$', '') if type(x) == str else x)"
      ],
      "metadata": {
        "id": "9MV_ZEzm0dFl"
      },
      "execution_count": null,
      "outputs": []
    },
    {
      "cell_type": "code",
      "source": [
        "data.drop(['price_string', 'price_string_unf'], axis=1, inplace=True)"
      ],
      "metadata": {
        "id": "q9t5AwwyKBhY"
      },
      "execution_count": null,
      "outputs": []
    },
    {
      "cell_type": "code",
      "source": [
        "data.sample(5)"
      ],
      "metadata": {
        "colab": {
          "base_uri": "https://localhost:8080/",
          "height": 531
        },
        "id": "K1F40ulnuhwh",
        "outputId": "69768549-274d-499f-fbc2-8baa302affb5"
      },
      "execution_count": null,
      "outputs": [
        {
          "output_type": "execute_result",
          "data": {
            "text/plain": [
              "                                          uuid  \\\n",
              "1106144   975d54c7-dc37-4f55-b22c-81f6b4329238   \n",
              "2596061   2921c71a-250a-44a3-8d5e-fce2915750ca   \n",
              "5043542   8bace463-8a96-4063-b8f1-8acb820f5980   \n",
              "11567266  c25765b1-5275-4f9a-bffb-abc3515cd809   \n",
              "10860345  33f297f5-1e8a-4b7b-802d-88696e40a716   \n",
              "\n",
              "                                    product_type  \\\n",
              "1106144                       U2NyZWVuIENvdmVycw   \n",
              "2596061                       UHVtcGtpbiBTZWVkcw   \n",
              "5043542   V29tZW5zIHdvcmt3ZWFyLyBvZmZpY2Ugd2Vhcg   \n",
              "11567266         VG9kZGxlcnMvbmV3Ym9ybiBiYWJpZXM   \n",
              "10860345                  Q3JvY2hldC9Lbml0dGluZw   \n",
              "\n",
              "                               level_1                          category  \\\n",
              "1106144             U2NyZWVuIENvdmVycw                   RWxlY3Ryb25pY3M   \n",
              "2596061             UHVtcGtpbiBTZWVkcw                      Z3JvY2VyaWVz   \n",
              "5043542               Rm9ybWFsIFBhbnRz  Q2xvdGhpbmcgYW5kIEFjY2Vzc29yaWVz   \n",
              "11567266  UGFudHMvU2hvcnRzIGZvciBiYWJ5                       QmFieWNhcmU   \n",
              "10860345        S25pdHRpbmcgbmVlZGxlcw                  QXJ0IHN1cHBsaWVz   \n",
              "\n",
              "         price_value currency price_unf_value  \n",
              "1106144        43.96        $             NaN  \n",
              "2596061          NaN      NaN             NaN  \n",
              "5043542       148.00        $             NaN  \n",
              "11567266         NaN      NaN             NaN  \n",
              "10860345         NaN      NaN             NaN  "
            ],
            "text/html": [
              "\n",
              "  <div id=\"df-95bac339-0f8b-4c4b-abcb-cd810ee02e6d\">\n",
              "    <div class=\"colab-df-container\">\n",
              "      <div>\n",
              "<style scoped>\n",
              "    .dataframe tbody tr th:only-of-type {\n",
              "        vertical-align: middle;\n",
              "    }\n",
              "\n",
              "    .dataframe tbody tr th {\n",
              "        vertical-align: top;\n",
              "    }\n",
              "\n",
              "    .dataframe thead th {\n",
              "        text-align: right;\n",
              "    }\n",
              "</style>\n",
              "<table border=\"1\" class=\"dataframe\">\n",
              "  <thead>\n",
              "    <tr style=\"text-align: right;\">\n",
              "      <th></th>\n",
              "      <th>uuid</th>\n",
              "      <th>product_type</th>\n",
              "      <th>level_1</th>\n",
              "      <th>category</th>\n",
              "      <th>price_value</th>\n",
              "      <th>currency</th>\n",
              "      <th>price_unf_value</th>\n",
              "    </tr>\n",
              "  </thead>\n",
              "  <tbody>\n",
              "    <tr>\n",
              "      <th>1106144</th>\n",
              "      <td>975d54c7-dc37-4f55-b22c-81f6b4329238</td>\n",
              "      <td>U2NyZWVuIENvdmVycw</td>\n",
              "      <td>U2NyZWVuIENvdmVycw</td>\n",
              "      <td>RWxlY3Ryb25pY3M</td>\n",
              "      <td>43.96</td>\n",
              "      <td>$</td>\n",
              "      <td>NaN</td>\n",
              "    </tr>\n",
              "    <tr>\n",
              "      <th>2596061</th>\n",
              "      <td>2921c71a-250a-44a3-8d5e-fce2915750ca</td>\n",
              "      <td>UHVtcGtpbiBTZWVkcw</td>\n",
              "      <td>UHVtcGtpbiBTZWVkcw</td>\n",
              "      <td>Z3JvY2VyaWVz</td>\n",
              "      <td>NaN</td>\n",
              "      <td>NaN</td>\n",
              "      <td>NaN</td>\n",
              "    </tr>\n",
              "    <tr>\n",
              "      <th>5043542</th>\n",
              "      <td>8bace463-8a96-4063-b8f1-8acb820f5980</td>\n",
              "      <td>V29tZW5zIHdvcmt3ZWFyLyBvZmZpY2Ugd2Vhcg</td>\n",
              "      <td>Rm9ybWFsIFBhbnRz</td>\n",
              "      <td>Q2xvdGhpbmcgYW5kIEFjY2Vzc29yaWVz</td>\n",
              "      <td>148.00</td>\n",
              "      <td>$</td>\n",
              "      <td>NaN</td>\n",
              "    </tr>\n",
              "    <tr>\n",
              "      <th>11567266</th>\n",
              "      <td>c25765b1-5275-4f9a-bffb-abc3515cd809</td>\n",
              "      <td>VG9kZGxlcnMvbmV3Ym9ybiBiYWJpZXM</td>\n",
              "      <td>UGFudHMvU2hvcnRzIGZvciBiYWJ5</td>\n",
              "      <td>QmFieWNhcmU</td>\n",
              "      <td>NaN</td>\n",
              "      <td>NaN</td>\n",
              "      <td>NaN</td>\n",
              "    </tr>\n",
              "    <tr>\n",
              "      <th>10860345</th>\n",
              "      <td>33f297f5-1e8a-4b7b-802d-88696e40a716</td>\n",
              "      <td>Q3JvY2hldC9Lbml0dGluZw</td>\n",
              "      <td>S25pdHRpbmcgbmVlZGxlcw</td>\n",
              "      <td>QXJ0IHN1cHBsaWVz</td>\n",
              "      <td>NaN</td>\n",
              "      <td>NaN</td>\n",
              "      <td>NaN</td>\n",
              "    </tr>\n",
              "  </tbody>\n",
              "</table>\n",
              "</div>\n",
              "      <button class=\"colab-df-convert\" onclick=\"convertToInteractive('df-95bac339-0f8b-4c4b-abcb-cd810ee02e6d')\"\n",
              "              title=\"Convert this dataframe to an interactive table.\"\n",
              "              style=\"display:none;\">\n",
              "        \n",
              "  <svg xmlns=\"http://www.w3.org/2000/svg\" height=\"24px\"viewBox=\"0 0 24 24\"\n",
              "       width=\"24px\">\n",
              "    <path d=\"M0 0h24v24H0V0z\" fill=\"none\"/>\n",
              "    <path d=\"M18.56 5.44l.94 2.06.94-2.06 2.06-.94-2.06-.94-.94-2.06-.94 2.06-2.06.94zm-11 1L8.5 8.5l.94-2.06 2.06-.94-2.06-.94L8.5 2.5l-.94 2.06-2.06.94zm10 10l.94 2.06.94-2.06 2.06-.94-2.06-.94-.94-2.06-.94 2.06-2.06.94z\"/><path d=\"M17.41 7.96l-1.37-1.37c-.4-.4-.92-.59-1.43-.59-.52 0-1.04.2-1.43.59L10.3 9.45l-7.72 7.72c-.78.78-.78 2.05 0 2.83L4 21.41c.39.39.9.59 1.41.59.51 0 1.02-.2 1.41-.59l7.78-7.78 2.81-2.81c.8-.78.8-2.07 0-2.86zM5.41 20L4 18.59l7.72-7.72 1.47 1.35L5.41 20z\"/>\n",
              "  </svg>\n",
              "      </button>\n",
              "      \n",
              "  <style>\n",
              "    .colab-df-container {\n",
              "      display:flex;\n",
              "      flex-wrap:wrap;\n",
              "      gap: 12px;\n",
              "    }\n",
              "\n",
              "    .colab-df-convert {\n",
              "      background-color: #E8F0FE;\n",
              "      border: none;\n",
              "      border-radius: 50%;\n",
              "      cursor: pointer;\n",
              "      display: none;\n",
              "      fill: #1967D2;\n",
              "      height: 32px;\n",
              "      padding: 0 0 0 0;\n",
              "      width: 32px;\n",
              "    }\n",
              "\n",
              "    .colab-df-convert:hover {\n",
              "      background-color: #E2EBFA;\n",
              "      box-shadow: 0px 1px 2px rgba(60, 64, 67, 0.3), 0px 1px 3px 1px rgba(60, 64, 67, 0.15);\n",
              "      fill: #174EA6;\n",
              "    }\n",
              "\n",
              "    [theme=dark] .colab-df-convert {\n",
              "      background-color: #3B4455;\n",
              "      fill: #D2E3FC;\n",
              "    }\n",
              "\n",
              "    [theme=dark] .colab-df-convert:hover {\n",
              "      background-color: #434B5C;\n",
              "      box-shadow: 0px 1px 3px 1px rgba(0, 0, 0, 0.15);\n",
              "      filter: drop-shadow(0px 1px 2px rgba(0, 0, 0, 0.3));\n",
              "      fill: #FFFFFF;\n",
              "    }\n",
              "  </style>\n",
              "\n",
              "      <script>\n",
              "        const buttonEl =\n",
              "          document.querySelector('#df-95bac339-0f8b-4c4b-abcb-cd810ee02e6d button.colab-df-convert');\n",
              "        buttonEl.style.display =\n",
              "          google.colab.kernel.accessAllowed ? 'block' : 'none';\n",
              "\n",
              "        async function convertToInteractive(key) {\n",
              "          const element = document.querySelector('#df-95bac339-0f8b-4c4b-abcb-cd810ee02e6d');\n",
              "          const dataTable =\n",
              "            await google.colab.kernel.invokeFunction('convertToInteractive',\n",
              "                                                     [key], {});\n",
              "          if (!dataTable) return;\n",
              "\n",
              "          const docLinkHtml = 'Like what you see? Visit the ' +\n",
              "            '<a target=\"_blank\" href=https://colab.research.google.com/notebooks/data_table.ipynb>data table notebook</a>'\n",
              "            + ' to learn more about interactive tables.';\n",
              "          element.innerHTML = '';\n",
              "          dataTable['output_type'] = 'display_data';\n",
              "          await google.colab.output.renderOutput(dataTable, element);\n",
              "          const docLink = document.createElement('div');\n",
              "          docLink.innerHTML = docLinkHtml;\n",
              "          element.appendChild(docLink);\n",
              "        }\n",
              "      </script>\n",
              "    </div>\n",
              "  </div>\n",
              "  "
            ]
          },
          "metadata": {},
          "execution_count": 30
        }
      ]
    },
    {
      "cell_type": "markdown",
      "source": [
        "### **4. List out the categories with average price of product.**"
      ],
      "metadata": {
        "id": "e-F77svsKb-j"
      }
    },
    {
      "cell_type": "code",
      "source": [
        "data_ = data[data['price_value'].notnull()]"
      ],
      "metadata": {
        "id": "Qa3ZrvLDuhog"
      },
      "execution_count": null,
      "outputs": []
    },
    {
      "cell_type": "code",
      "source": [
        "data_.price_value = data_.price_value.astype('float32')"
      ],
      "metadata": {
        "id": "TF0jC6WzItWr"
      },
      "execution_count": null,
      "outputs": []
    },
    {
      "cell_type": "code",
      "source": [
        "data_.groupby('category')['price_value'].mean().sort_values(ascending=False)"
      ],
      "metadata": {
        "colab": {
          "base_uri": "https://localhost:8080/"
        },
        "id": "10L9Yv3HGh--",
        "outputId": "09a9231f-d45e-43e1-bc55-5712c3108d40"
      },
      "execution_count": null,
      "outputs": [
        {
          "output_type": "execute_result",
          "data": {
            "text/plain": [
              "category\n",
              "QmFieWNhcmU                            163.688889\n",
              "Q2xvdGhpbmcgYW5kIEFjY2Vzc29yaWVz       125.413872\n",
              "VG9vbHMgYW5kIGhvbWUgaW1wcm92ZW1lbnQ     82.223503\n",
              "SG91c2Vob2xkIGFuZCBDbGVhbmluZw          76.198997\n",
              "RWxlY3Ryb25pY3M                         60.258183\n",
              "YmVhdXR5IGFuZCBwZXJzb25hbCBjYXJl        34.745068\n",
              "SGVhbHRo                                32.557587\n",
              "VG95cyBhbmQgR2FtZXM                     32.448948\n",
              "b2ZmaWNlIHByb2R1Y3Rz                    20.480000\n",
              "QXJ0IHN1cHBsaWVz                        19.471052\n",
              "a2l0Y2hpbmcgYW5kIGRpbmluZw              16.703236\n",
              "cGV0IHN1cHBsaWVz                        14.181875\n",
              "Z3JvY2VyaWVz                            10.541667\n",
              "Name: price_value, dtype: float32"
            ]
          },
          "metadata": {},
          "execution_count": 52
        }
      ]
    },
    {
      "cell_type": "code",
      "source": [
        ""
      ],
      "metadata": {
        "id": "iNync3YQLJlt"
      },
      "execution_count": null,
      "outputs": []
    }
  ]
}